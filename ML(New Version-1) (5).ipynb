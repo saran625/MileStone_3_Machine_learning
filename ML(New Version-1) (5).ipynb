{
 "cells": [
  {
   "cell_type": "code",
   "execution_count": 3,
   "id": "40c9e374-faeb-415f-b8aa-f69190b0cd07",
   "metadata": {},
   "outputs": [],
   "source": [
    "import os\n",
    "import pandas as pd\n",
    "import numpy as np\n",
    "import matplotlib.pyplot as plt\n",
    "from sklearn.model_selection import train_test_split\n",
    "from tensorflow.keras.utils import to_categorical\n",
    "from tensorflow.keras.models import Sequential\n",
    "from tensorflow.keras.layers import Conv2D, MaxPooling2D, Flatten, Dense, Dropout\n",
    "from tensorflow.keras.preprocessing.image import load_img, img_to_array"
   ]
  },
  {
   "cell_type": "code",
   "execution_count": 4,
   "id": "b3681044-c33d-467a-9bb3-9c7cf3d84b5f",
   "metadata": {},
   "outputs": [],
   "source": [
    "# Load label CSV\n",
    "labels = pd.read_csv(r'C:\\Users\\Admin\\Downloads\\Road Signs classification dataset-20250325T111147Z-001\\Road Signs classification dataset\\labels.csv')\n",
    "\n",
    "import os\n",
    "\n",
    "# Use raw string literals to handle backslashes properly\n",
    "image_dir_1 = r'C:\\Users\\Admin\\Downloads\\Road Signs classification dataset-20250325T111147Z-001\\Road Signs classification dataset\\DATA'\n",
    "image_dir_2 = r'C:\\Users\\Admin\\Downloads\\Road Signs classification dataset-20250325T111147Z-001\\Road Signs classification dataset\\TEST'\n"
   ]
  },
  {
   "cell_type": "code",
   "execution_count": 5,
   "id": "79a7b951-638e-4f00-a06e-78ef0504e8db",
   "metadata": {},
   "outputs": [
    {
     "name": "stdout",
     "output_type": "stream",
     "text": [
      "Loaded 1028 images.\n"
     ]
    }
   ],
   "source": [
    "# Combine both folder paths\n",
    "all_dirs = [image_dir_1, image_dir_2]\n",
    "\n",
    "img_size = (32, 32)\n",
    "images = []\n",
    "labels = []\n",
    "\n",
    "for base_dir in all_dirs:\n",
    "    for label_folder in os.listdir(base_dir):\n",
    "        folder_path = os.path.join(base_dir, label_folder)\n",
    "        if os.path.isdir(folder_path):\n",
    "            for img_file in os.listdir(folder_path):\n",
    "                img_path = os.path.join(folder_path, img_file)\n",
    "                try:\n",
    "                    img = load_img(img_path, target_size=img_size)\n",
    "                    img = img_to_array(img) / 255.0\n",
    "                    images.append(img)\n",
    "                    labels.append(int(label_folder))  # folder name is the class\n",
    "                except Exception as e:\n",
    "                    print(f\"Failed to load image: {img_path} due to {e}\")\n",
    "\n",
    "# Convert to numpy arrays\n",
    "images = np.array(images)\n",
    "labels = to_categorical(labels)\n",
    "\n",
    "print(f\"Loaded {len(images)} images.\")"
   ]
  },
  {
   "cell_type": "code",
   "execution_count": 6,
   "id": "ad21c7d7-d47f-4342-b5b2-070046e800b2",
   "metadata": {},
   "outputs": [],
   "source": [
    "## Test and Train split"
   ]
  },
  {
   "cell_type": "code",
   "execution_count": 7,
   "id": "871a4a91-8b29-43f2-a64d-c70c55e11961",
   "metadata": {},
   "outputs": [
    {
     "name": "stdout",
     "output_type": "stream",
     "text": [
      "Training samples: 822, Testing samples: 206\n"
     ]
    }
   ],
   "source": [
    "from sklearn.model_selection import train_test_split\n",
    "\n",
    "X_train, X_test, y_train, y_test = train_test_split(images, labels, test_size=0.2, random_state=42)\n",
    "\n",
    "print(f\"Training samples: {len(X_train)}, Testing samples: {len(X_test)}\")\n"
   ]
  },
  {
   "cell_type": "code",
   "execution_count": 8,
   "id": "20568ecc-db9c-42fa-b727-24637dd04325",
   "metadata": {},
   "outputs": [],
   "source": [
    "import tensorflow as tf\n",
    "tf.config.run_functions_eagerly(True)"
   ]
  },
  {
   "cell_type": "code",
   "execution_count": 9,
   "id": "656b603b-cfdd-45ec-ba44-45beabd66e04",
   "metadata": {},
   "outputs": [],
   "source": [
    "from tensorflow.keras.models import Sequential\n",
    "from tensorflow.keras.layers import Conv2D, MaxPooling2D, Flatten, Dense, Dropout\n",
    "\n",
    "from tensorflow.keras import Input\n",
    "\n",
    "model = Sequential([\n",
    "    Input(shape=(32, 32, 3)),\n",
    "    Conv2D(32, (3, 3), activation='relu'),\n",
    "    MaxPooling2D(pool_size=(2, 2)),\n",
    "    Conv2D(64, (3, 3), activation='relu'),\n",
    "    MaxPooling2D(pool_size=(2, 2)),\n",
    "    Flatten(),\n",
    "    Dense(128, activation='relu'),\n",
    "    Dropout(0.5),\n",
    "    Dense(y_train.shape[1], activation='softmax')\n",
    "])\n",
    "model.compile(optimizer='adam', loss='categorical_crossentropy', metrics=['accuracy'])\n"
   ]
  },
  {
   "cell_type": "code",
   "execution_count": 10,
   "id": "35aa5b10-10c7-4fd2-b673-e682137a43e8",
   "metadata": {},
   "outputs": [
    {
     "name": "stderr",
     "output_type": "stream",
     "text": [
      "C:\\Users\\Admin\\AppData\\Roaming\\Python\\Python312\\site-packages\\tensorflow\\python\\data\\ops\\structured_function.py:258: UserWarning: Even though the `tf.config.experimental_run_functions_eagerly` option is set, this option does not apply to tf.data functions. To force eager execution of tf.data functions, please use `tf.data.experimental.enable_debug_mode()`.\n",
      "  warnings.warn(\n"
     ]
    },
    {
     "name": "stdout",
     "output_type": "stream",
     "text": [
      "Epoch 1/10\n",
      "\u001b[1m26/26\u001b[0m \u001b[32m━━━━━━━━━━━━━━━━━━━━\u001b[0m\u001b[37m\u001b[0m \u001b[1m4s\u001b[0m 133ms/step - accuracy: 0.0546 - loss: 3.4086 - val_accuracy: 0.0874 - val_loss: 3.3422\n",
      "Epoch 2/10\n",
      "\u001b[1m26/26\u001b[0m \u001b[32m━━━━━━━━━━━━━━━━━━━━\u001b[0m\u001b[37m\u001b[0m \u001b[1m3s\u001b[0m 118ms/step - accuracy: 0.1054 - loss: 3.2942 - val_accuracy: 0.1408 - val_loss: 3.0964\n",
      "Epoch 3/10\n",
      "\u001b[1m26/26\u001b[0m \u001b[32m━━━━━━━━━━━━━━━━━━━━\u001b[0m\u001b[37m\u001b[0m \u001b[1m3s\u001b[0m 120ms/step - accuracy: 0.1551 - loss: 3.0339 - val_accuracy: 0.4029 - val_loss: 2.7352\n",
      "Epoch 4/10\n",
      "\u001b[1m26/26\u001b[0m \u001b[32m━━━━━━━━━━━━━━━━━━━━\u001b[0m\u001b[37m\u001b[0m \u001b[1m3s\u001b[0m 117ms/step - accuracy: 0.2917 - loss: 2.6265 - val_accuracy: 0.5922 - val_loss: 2.0895\n",
      "Epoch 5/10\n",
      "\u001b[1m26/26\u001b[0m \u001b[32m━━━━━━━━━━━━━━━━━━━━\u001b[0m\u001b[37m\u001b[0m \u001b[1m3s\u001b[0m 119ms/step - accuracy: 0.4339 - loss: 2.1347 - val_accuracy: 0.6650 - val_loss: 1.5272\n",
      "Epoch 6/10\n",
      "\u001b[1m26/26\u001b[0m \u001b[32m━━━━━━━━━━━━━━━━━━━━\u001b[0m\u001b[37m\u001b[0m \u001b[1m3s\u001b[0m 99ms/step - accuracy: 0.5695 - loss: 1.7010 - val_accuracy: 0.8058 - val_loss: 1.0150\n",
      "Epoch 7/10\n",
      "\u001b[1m26/26\u001b[0m \u001b[32m━━━━━━━━━━━━━━━━━━━━\u001b[0m\u001b[37m\u001b[0m \u001b[1m3s\u001b[0m 110ms/step - accuracy: 0.6324 - loss: 1.4020 - val_accuracy: 0.8641 - val_loss: 0.7400\n",
      "Epoch 8/10\n",
      "\u001b[1m26/26\u001b[0m \u001b[32m━━━━━━━━━━━━━━━━━━━━\u001b[0m\u001b[37m\u001b[0m \u001b[1m3s\u001b[0m 129ms/step - accuracy: 0.7314 - loss: 1.0347 - val_accuracy: 0.9029 - val_loss: 0.5899\n",
      "Epoch 9/10\n",
      "\u001b[1m26/26\u001b[0m \u001b[32m━━━━━━━━━━━━━━━━━━━━\u001b[0m\u001b[37m\u001b[0m \u001b[1m3s\u001b[0m 115ms/step - accuracy: 0.7644 - loss: 0.8228 - val_accuracy: 0.9126 - val_loss: 0.4434\n",
      "Epoch 10/10\n",
      "\u001b[1m26/26\u001b[0m \u001b[32m━━━━━━━━━━━━━━━━━━━━\u001b[0m\u001b[37m\u001b[0m \u001b[1m2s\u001b[0m 92ms/step - accuracy: 0.8302 - loss: 0.6271 - val_accuracy: 0.9272 - val_loss: 0.4028\n"
     ]
    }
   ],
   "source": [
    "history = model.fit(X_train, y_train, epochs=10, validation_data=(X_test, y_test))"
   ]
  },
  {
   "cell_type": "code",
   "execution_count": 11,
   "id": "8aa4be18-7c68-474c-88e0-6f55984fe7da",
   "metadata": {},
   "outputs": [
    {
     "name": "stdout",
     "output_type": "stream",
     "text": [
      "\u001b[1m7/7\u001b[0m \u001b[32m━━━━━━━━━━━━━━━━━━━━\u001b[0m\u001b[37m\u001b[0m \u001b[1m0s\u001b[0m 63ms/step - accuracy: 0.9122 - loss: 0.4355\n",
      "Test Accuracy: 0.9272\n",
      "Test Loss: 0.4028\n"
     ]
    }
   ],
   "source": [
    "loss, accuracy = model.evaluate(X_test, y_test)\n",
    "print(f\"Test Accuracy: {accuracy:.4f}\")\n",
    "print(f\"Test Loss: {loss:.4f}\")"
   ]
  },
  {
   "cell_type": "code",
   "execution_count": 12,
   "id": "7f614bd1-e2b6-411a-88ed-8da2c341a780",
   "metadata": {},
   "outputs": [
    {
     "data": {
      "image/png": "[encoded data removed]",
      "text/plain": [
       "<Figure size 640x480 with 1 Axes>"
      ]
     },
     "metadata": {},
     "output_type": "display_data"
    },
    {
     "data": {
      "image/png": "[encoded data removed]",
      "text/plain": [
       "<Figure size 640x480 with 1 Axes>"
      ]
     },
     "metadata": {},
     "output_type": "display_data"
    }
   ],
   "source": [
    "import matplotlib.pyplot as plt\n",
    "\n",
    "# Accuracy\n",
    "plt.plot(history.history['accuracy'], label='Train Accuracy')\n",
    "plt.plot(history.history['val_accuracy'], label='Val Accuracy')\n",
    "plt.title('Accuracy over Epochs')\n",
    "plt.xlabel('Epochs')\n",
    "plt.ylabel('Accuracy')\n",
    "plt.legend()\n",
    "plt.show()\n",
    "\n",
    "# Loss\n",
    "plt.plot(history.history['loss'], label='Train Loss')\n",
    "plt.plot(history.history['val_loss'], label='Val Loss')\n",
    "plt.title('Loss over Epochs')\n",
    "plt.xlabel('Epochs')\n",
    "plt.ylabel('Loss')\n",
    "plt.legend()\n",
    "plt.show()\n"
   ]
  },
  {
   "cell_type": "code",
   "execution_count": 16,
   "id": "eb306ce7-1e4b-43f8-9f3f-ddf1f1be5da8",
   "metadata": {},
   "outputs": [],
   "source": [
    "model.save(\"road_sign_classifier_model.keras\")\n"
   ]
  },
  {
   "cell_type": "code",
   "execution_count": 17,
   "id": "872fbe5a-4934-4002-a299-5892e82c9aa6",
   "metadata": {},
   "outputs": [],
   "source": [
    "from keras.models import load_model\n",
    "from keras.preprocessing import image\n",
    "import numpy as np\n",
    "import matplotlib.pyplot as plt\n",
    "import os\n",
    "\n",
    "# 1. Load the saved model\n",
    "model = load_model('road_sign_classifier_model.keras')  # or .h5 if you saved it that way\n"
   ]
  },
  {
   "cell_type": "code",
   "execution_count": 27,
   "id": "f52504c5-e17d-4c23-a2d4-96fd28e15cdd",
   "metadata": {},
   "outputs": [],
   "source": [
    "# 2. Load and preprocess the image\n",
    "img_path = r\"C:\\Users\\Admin\\Downloads\\Road Signs classification dataset-20250325T111147Z-001\\Road Signs classification dataset\\TEST\\13\\013_1_0025_1_j.png\"  # path to your test image\n",
    "img = image.load_img(img_path, target_size=(32, 32))  # same size used during training\n"
   ]
  },
  {
   "cell_type": "code",
   "execution_count": 29,
   "id": "6e24dc0c-be11-4d4b-bc88-5ded6a55f016",
   "metadata": {},
   "outputs": [],
   "source": [
    "# 3. Convert image to array and normalize\n",
    "img_array = image.img_to_array(img)\n",
    "img_array = img_array / 255.0  # normalize\n",
    "img_array = np.expand_dims(img_array, axis=0)  # add batch dimension"
   ]
  },
  {
   "cell_type": "code",
   "execution_count": 30,
   "id": "3bc51ed0-a497-4478-9142-42d4e3082625",
   "metadata": {},
   "outputs": [
    {
     "name": "stdout",
     "output_type": "stream",
     "text": [
      "\u001b[1m1/1\u001b[0m \u001b[32m━━━━━━━━━━━━━━━━━━━━\u001b[0m\u001b[37m\u001b[0m \u001b[1m0s\u001b[0m 118ms/step\n"
     ]
    }
   ],
   "source": [
    "# 4. Predict\n",
    "pred = model.predict(img_array)\n",
    "predicted_class = np.argmax(pred)"
   ]
  },
  {
   "cell_type": "code",
   "execution_count": 31,
   "id": "ac3e1704-7f59-4505-a93a-376d3d2536ff",
   "metadata": {},
   "outputs": [
    {
     "name": "stdout",
     "output_type": "stream",
     "text": [
      "Predicted class: 13\n"
     ]
    },
    {
     "data": {
      "image/png": "[encoded data removed]",
      "text/plain": [
       "<Figure size 640x480 with 1 Axes>"
      ]
     },
     "metadata": {},
     "output_type": "display_data"
    }
   ],
   "source": [
    "# 5. Show result\n",
    "print(f\"Predicted class: {predicted_class}\")\n",
    "plt.imshow(img)\n",
    "plt.title(f\"Prediction: Class {predicted_class}\")\n",
    "plt.axis('off')\n",
    "plt.show()"
   ]
  },
  {
   "cell_type": "code",
   "execution_count": 32,
   "id": "e9d45f7e-9232-4860-9cf3-b9915c661ebc",
   "metadata": {},
   "outputs": [
    {
     "name": "stdout",
     "output_type": "stream",
     "text": [
      "Prediction: Don't go right\n"
     ]
    }
   ],
   "source": [
    "label_map = {\n",
    "    0: \"Speed limit (5km/h)\",\n",
    "    1: \"Speed limit (15km/h)\",\n",
    "    2: \"Speed limit (30km/h)\",\n",
    "    3: \"Speed limit (40km/h)\",\n",
    "    4: \"Speed limit (50km/h)\",\n",
    "    5: \"Speed limit (60km/h)\",\n",
    "    6: \"Speed limit (70km/h)\",\n",
    "    7: \"Speed limit (80km/h)\",\n",
    "    8: \"Don't go straight or left\",\n",
    "    9: \"Unknown7\",\n",
    "    10: \"Don't go straight\",\n",
    "    11: \"Don't go left\",\n",
    "    12: \"Don't go left or right\",\n",
    "    13: \"Don't go right\",\n",
    "    14: \"Don't overtake from left\",\n",
    "    15: \"No U-turn\",\n",
    "    16: \"No car\",\n",
    "    17: \"No horn\",\n",
    "    18: \"No entry\",\n",
    "    19: \"No stopping\",\n",
    "    20: \"Go straight or right\",\n",
    "    21: \"Go straight\",\n",
    "    22: \"Go left\",\n",
    "    23: \"Go left or right\",\n",
    "    24: \"Go right\"\n",
    "}\n",
    "print(f\"Prediction: {label_map[predicted_class]}\")\n"
   ]
  },
  {
   "cell_type": "code",
   "execution_count": null,
   "id": "3db61d3d-1f18-4a32-8779-13cfc51aa200",
   "metadata": {},
   "outputs": [],
   "source": []
  },
  {
   "cell_type": "code",
   "execution_count": null,
   "id": "dde44240-ad21-464a-b7b7-a6b7b7dcf049",
   "metadata": {},
   "outputs": [],
   "source": []
  },
  {
   "cell_type": "code",
   "execution_count": null,
   "id": "4e707c3e-b074-48b2-a42d-9ffed86e5f56",
   "metadata": {},
   "outputs": [],
   "source": []
  },
  {
   "cell_type": "code",
   "execution_count": null,
   "id": "b999081f-26f9-4b98-9c8f-8213a2ac5687",
   "metadata": {},
   "outputs": [],
   "source": []
  },
  {
   "cell_type": "code",
   "execution_count": null,
   "id": "23003fa5-268c-4cc1-9fd3-b0537376ac63",
   "metadata": {},
   "outputs": [],
   "source": []
  },
  {
   "cell_type": "code",
   "execution_count": null,
   "id": "3106468f-21ab-4ade-9628-5dfaa3739735",
   "metadata": {},
   "outputs": [],
   "source": []
  },
  {
   "cell_type": "code",
   "execution_count": null,
   "id": "596c3e62-77f8-4b80-b6f4-b4500c0df89c",
   "metadata": {},
   "outputs": [],
   "source": []
  },
  {
   "cell_type": "code",
   "execution_count": null,
   "id": "c0dabee3-088a-47bf-843c-5ad305d5373c",
   "metadata": {},
   "outputs": [],
   "source": []
  },
  {
   "cell_type": "code",
   "execution_count": null,
   "id": "37408917-e8bb-4632-8caa-caf6f67d4960",
   "metadata": {},
   "outputs": [],
   "source": []
  },
  {
   "cell_type": "code",
   "execution_count": null,
   "id": "81f4d0f2-294e-4ba2-8deb-6299e8c537ff",
   "metadata": {},
   "outputs": [],
   "source": []
  },
  {
   "cell_type": "code",
   "execution_count": null,
   "id": "c1639e27-3479-4637-9dc6-eccce83632b0",
   "metadata": {},
   "outputs": [],
   "source": []
  },
  {
   "cell_type": "code",
   "execution_count": 19,
   "id": "7836ab05-2333-4c81-adf2-c40c4fc4d1ca",
   "metadata": {},
   "outputs": [],
   "source": [
    "# import tensorflow as tf"
   ]
  },
  {
   "cell_type": "code",
   "execution_count": 20,
   "id": "8aa6dba6-3d3b-41d8-86e8-f4b1fdb3bb21",
   "metadata": {},
   "outputs": [
    {
     "data": {
      "text/plain": [
       "<tf.Tensor: shape=(), dtype=int32, numpy=-2147483648>"
      ]
     },
     "execution_count": 20,
     "metadata": {},
     "output_type": "execute_result"
    }
   ],
   "source": [
    "# tf.constant(0x80000000, dtype=tf.int32)\n"
   ]
  },
  {
   "cell_type": "code",
   "execution_count": 2,
   "id": "ad678b49-f010-4176-b45e-b870636af9a1",
   "metadata": {},
   "outputs": [
    {
     "name": "stderr",
     "output_type": "stream",
     "text": [
      "C:\\Users\\Admin\\AppData\\Roaming\\Python\\Python312\\site-packages\\keras\\src\\saving\\saving_lib.py:757: UserWarning: Skipping variable loading for optimizer 'rmsprop', because it has 10 variables whereas the saved optimizer has 2 variables. \n",
      "  saveable.load_own_variables(weights_store.get(inner_path))\n"
     ]
    }
   ],
   "source": [
    "from keras.models import load_model\n",
    "\n",
    "# Load the saved model\n",
    "model = load_model(\"road_sign_classifier_model.keras\")  # or .h5 if that's what you used"
   ]
  },
  {
   "cell_type": "code",
   "execution_count": 17,
   "id": "961973df-dfc6-43dd-8d93-3e793ef132dc",
   "metadata": {},
   "outputs": [],
   "source": [
    "from flask import Flask, render_template, request\n",
    "import os\n",
    "\n",
    "app = Flask(__name__)"
   ]
  },
  {
   "cell_type": "code",
   "execution_count": 18,
   "id": "e0effcfb-6aa4-422b-a746-bacaaf40dbf3",
   "metadata": {},
   "outputs": [],
   "source": [
    "from keras.preprocessing import image\n",
    "import numpy as np\n",
    "\n",
    "@app.route('/', methods=['GET', 'POST'])\n",
    "def index():\n",
    "    if request.method == 'POST':\n",
    "        img_file = request.files['image']\n",
    "        if img_file:\n",
    "            path = os.path.join(\"static\", img_file.filename)\n",
    "            img_file.save(path)\n",
    "\n",
    "            # Load & preprocess the image\n",
    "            img = image.load_img(path, target_size=(32, 32))  # Resize to match model input\n",
    "            img_array = image.img_to_array(img) / 255.0       # Normalize\n",
    "            img_array = np.expand_dims(img_array, axis=0)     # Add batch dimension\n",
    "\n",
    "            # Make prediction\n",
    "            predictions = model.predict(img_array)\n",
    "            predicted_class = np.argmax(predictions)\n",
    "\n",
    "            # Optional: map class to label name\n",
    "            label_map = {\n",
    "                0: \"Speed Limit 20\",\n",
    "                1: \"Speed Limit 30\",\n",
    "                2: \"Stop\",\n",
    "                # add all class mappings here\n",
    "            }\n",
    "            result = label_map.get(predicted_class, \"Unknown\")\n",
    "\n",
    "            return render_template('index.html', prediction=result, img_path=path)\n",
    "\n",
    "    return render_template('index.html', prediction=None)\n"
   ]
  },
  {
   "cell_type": "code",
   "execution_count": 19,
   "id": "a71d89e4-2f11-4c6b-8549-8051cb8a33fb",
   "metadata": {},
   "outputs": [
    {
     "name": "stdout",
     "output_type": "stream",
     "text": [
      " * Serving Flask app '__main__'\n",
      " * Debug mode: on\n"
     ]
    },
    {
     "name": "stderr",
     "output_type": "stream",
     "text": [
      "INFO:werkzeug:\u001b[31m\u001b[1mWARNING: This is a development server. Do not use it in a production deployment. Use a production WSGI server instead.\u001b[0m\n",
      " * Running on http://127.0.0.1:5000\n",
      "INFO:werkzeug:\u001b[33mPress CTRL+C to quit\u001b[0m\n",
      "INFO:werkzeug: * Restarting with watchdog (windowsapi)\n"
     ]
    },
    {
     "ename": "SystemExit",
     "evalue": "1",
     "output_type": "error",
     "traceback": [
      "An exception has occurred, use %tb to see the full traceback.\n",
      "\u001b[31mSystemExit\u001b[39m\u001b[31m:\u001b[39m 1\n"
     ]
    },
    {
     "name": "stderr",
     "output_type": "stream",
     "text": [
      "C:\\Users\\Admin\\AppData\\Roaming\\Python\\Python312\\site-packages\\IPython\\core\\interactiveshell.py:3557: UserWarning: To exit: use 'exit', 'quit', or Ctrl-D.\n",
      "  warn(\"To exit: use 'exit', 'quit', or Ctrl-D.\", stacklevel=1)\n"
     ]
    }
   ],
   "source": [
    "if __name__ == '__main__':\n",
    "    app.run(debug=True)"
   ]
  },
  {
   "cell_type": "code",
   "execution_count": 20,
   "id": "9a0d3b66-2c1b-4c63-a220-156f1d6b9975",
   "metadata": {},
   "outputs": [],
   "source": []
  },
  {
   "cell_type": "code",
   "execution_count": null,
   "id": "6115a43e-cc1c-4bfb-8811-12ab0d4fbd47",
   "metadata": {},
   "outputs": [],
   "source": []
  },
  {
   "cell_type": "code",
   "execution_count": null,
   "id": "fd105c8d-a496-445a-804f-92c80cb64881",
   "metadata": {},
   "outputs": [],
   "source": []
  },
  {
   "cell_type": "code",
   "execution_count": null,
   "id": "d825f95d-df9a-4830-8179-f0139efd03ee",
   "metadata": {},
   "outputs": [],
   "source": []
  },
  {
   "cell_type": "code",
   "execution_count": null,
   "id": "493abcf3-4156-44d7-a4c4-cd5c71fb45bc",
   "metadata": {},
   "outputs": [],
   "source": []
  },
  {
   "cell_type": "code",
   "execution_count": null,
   "id": "8e726908-7c32-454a-9f9a-c6105c65fa44",
   "metadata": {},
   "outputs": [],
   "source": []
  },
  {
   "cell_type": "code",
   "execution_count": null,
   "id": "c7229aa7-afd3-4785-82e7-709551d67469",
   "metadata": {},
   "outputs": [],
   "source": []
  },
  {
   "cell_type": "code",
   "execution_count": null,
   "id": "5be9ecfe-522a-4b86-a5cf-049fdca19ca5",
   "metadata": {},
   "outputs": [],
   "source": []
  },
  {
   "cell_type": "code",
   "execution_count": null,
   "id": "b497ec4b-8b27-41b5-949f-bac4fa2862ad",
   "metadata": {},
   "outputs": [],
   "source": []
  },
  {
   "cell_type": "code",
   "execution_count": null,
   "id": "d4605617-9932-4aee-95bf-bc2210fc204a",
   "metadata": {},
   "outputs": [],
   "source": []
  },
  {
   "cell_type": "code",
   "execution_count": null,
   "id": "30aa7336-c0e8-4e0f-9bb2-69715f62ab59",
   "metadata": {},
   "outputs": [],
   "source": []
  },
  {
   "cell_type": "code",
   "execution_count": null,
   "id": "16c6d73b-d5a5-453a-9786-cee16d1b538a",
   "metadata": {},
   "outputs": [],
   "source": []
  },
  {
   "cell_type": "code",
   "execution_count": null,
   "id": "14eaf45e-4bd4-4f1e-ad22-33155ec596e4",
   "metadata": {},
   "outputs": [],
   "source": []
  },
  {
   "cell_type": "code",
   "execution_count": null,
   "id": "8d0f9d6c-cf3c-416d-8cdd-cca8ded4ad37",
   "metadata": {},
   "outputs": [],
   "source": []
  },
  {
   "cell_type": "code",
   "execution_count": null,
   "id": "44833d49-b32d-434a-9da0-11e6eb17dc79",
   "metadata": {},
   "outputs": [],
   "source": []
  },
  {
   "cell_type": "code",
   "execution_count": null,
   "id": "619ca46c-a7ea-41a2-9e75-0edd60382d0b",
   "metadata": {},
   "outputs": [],
   "source": []
  },
  {
   "cell_type": "code",
   "execution_count": null,
   "id": "4bb6d635-3b7f-421c-b103-627cf9cd2769",
   "metadata": {},
   "outputs": [],
   "source": []
  },
  {
   "cell_type": "code",
   "execution_count": null,
   "id": "6dc47d0e-bc6d-4d84-8c18-1935b7b718ec",
   "metadata": {},
   "outputs": [],
   "source": []
  },
  {
   "cell_type": "code",
   "execution_count": null,
   "id": "01f172a5-6a55-471e-852d-e3569261630e",
   "metadata": {},
   "outputs": [],
   "source": []
  },
  {
   "cell_type": "code",
   "execution_count": null,
   "id": "29d037a3-5aa6-431d-b883-0131462e6b85",
   "metadata": {},
   "outputs": [],
   "source": []
  }
 ],
 "metadata": {
  "kernelspec": {
   "display_name": "Python 3 (ipykernel)",
   "language": "python",
   "name": "python3"
  },
  "language_info": {
   "codemirror_mode": {
    "name": "ipython",
    "version": 3
   },
   "file_extension": ".py",
   "mimetype": "text/x-python",
   "name": "python",
   "nbconvert_exporter": "python",
   "pygments_lexer": "ipython3",
   "version": "3.12.4"
  }
 },
 "nbformat": 4,
 "nbformat_minor": 5
}
